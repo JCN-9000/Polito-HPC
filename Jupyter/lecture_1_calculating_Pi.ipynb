{
 "cells": [
  {
   "cell_type": "code",
   "execution_count": 1,
   "metadata": {
    "collapsed": false
   },
   "outputs": [],
   "source": [
    "import sys\n",
    "\n",
    "import numpy as np\n",
    "\n",
    "%matplotlib inline\n",
    "import matplotlib.pyplot as plt\n",
    "import seaborn as sns\n",
    "sns.set_style('whitegrid')\n",
    "sns.set_context('poster')"
   ]
  },
  {
   "cell_type": "code",
   "execution_count": 3,
   "metadata": {
    "collapsed": false
   },
   "outputs": [
    {
     "name": "stderr",
     "output_type": "stream",
     "text": [
      "/opt/conda/lib/python3.7/site-packages/matplotlib/figure.py:98: MatplotlibDeprecationWarning: \n",
      "Adding an axes using the same arguments as a previous axes currently reuses the earlier instance.  In a future version, a new instance will always be created and returned.  Meanwhile, this warning can be suppressed, and the future behavior ensured, by passing a unique label to each axes instance.\n",
      "  \"Adding an axes using the same arguments as a previous axes \"\n"
     ]
    },
    {
     "ename": "AttributeError",
     "evalue": "'XAxis' object has no attribute 'set_xticklabels'",
     "output_type": "error",
     "traceback": [
      "\u001b[0;31m---------------------------------------------------------------------------\u001b[0m",
      "\u001b[0;31mAttributeError\u001b[0m                            Traceback (most recent call last)",
      "\u001b[0;32m<ipython-input-3-94a4a97261f6>\u001b[0m in \u001b[0;36m<module>\u001b[0;34m\u001b[0m\n\u001b[1;32m     16\u001b[0m \u001b[0mplt\u001b[0m\u001b[0;34m.\u001b[0m\u001b[0mxlim\u001b[0m\u001b[0;34m(\u001b[0m\u001b[0;34m-\u001b[0m\u001b[0;36m1.1\u001b[0m\u001b[0;34m,\u001b[0m\u001b[0;36m1.1\u001b[0m\u001b[0;34m)\u001b[0m\u001b[0;34m\u001b[0m\u001b[0;34m\u001b[0m\u001b[0m\n\u001b[1;32m     17\u001b[0m \u001b[0mplt\u001b[0m\u001b[0;34m.\u001b[0m\u001b[0mylim\u001b[0m\u001b[0;34m(\u001b[0m\u001b[0;34m-\u001b[0m\u001b[0;36m1.1\u001b[0m\u001b[0;34m,\u001b[0m\u001b[0;36m1.1\u001b[0m\u001b[0;34m)\u001b[0m\u001b[0;34m\u001b[0m\u001b[0;34m\u001b[0m\u001b[0m\n\u001b[0;32m---> 18\u001b[0;31m \u001b[0max\u001b[0m\u001b[0;34m.\u001b[0m\u001b[0mxaxis\u001b[0m\u001b[0;34m.\u001b[0m\u001b[0mset_xticklabels\u001b[0m\u001b[0;34m(\u001b[0m\u001b[0;34m[\u001b[0m\u001b[0;34m]\u001b[0m\u001b[0;34m)\u001b[0m\u001b[0;34m\u001b[0m\u001b[0;34m\u001b[0m\u001b[0m\n\u001b[0m\u001b[1;32m     19\u001b[0m \u001b[0max\u001b[0m\u001b[0;34m.\u001b[0m\u001b[0myaxis\u001b[0m\u001b[0;34m.\u001b[0m\u001b[0mset_yticklabels\u001b[0m\u001b[0;34m(\u001b[0m\u001b[0;34m[\u001b[0m\u001b[0;34m]\u001b[0m\u001b[0;34m)\u001b[0m\u001b[0;34m\u001b[0m\u001b[0;34m\u001b[0m\u001b[0m\n\u001b[1;32m     20\u001b[0m \u001b[0;34m\u001b[0m\u001b[0m\n",
      "\u001b[0;31mAttributeError\u001b[0m: 'XAxis' object has no attribute 'set_xticklabels'"
     ]
    },
    {
     "data": {
      "image/png": "[encoded data removed]",
      "text/plain": [
       "<Figure size 360x360 with 1 Axes>"
      ]
     },
     "metadata": {
      "needs_background": "light"
     },
     "output_type": "display_data"
    }
   ],
   "source": [
    "fig = plt.figure(figsize=(5,5))\n",
    "\n",
    "# plot the box:\n",
    "corners = [(-1,-1),(-1,1),(1,1),(1,-1),(-1,-1)]\n",
    "x = list(zip(*corners))[0]\n",
    "y = list(zip(*corners))[1]\n",
    "plt.plot(x, y, lw=3)\n",
    "# note: the code above is equivalent to\n",
    "# plt.plot([-1,-1,1,1,-1],[-1,1,1,-1,-1], lw=3)\n",
    "\n",
    "# plot the circle:\n",
    "ax = fig.add_subplot(1,1,1)\n",
    "circle = plt.Circle((0,0), radius=1, color='g', fill=False, lw=3)\n",
    "ax.add_patch(circle)\n",
    "\n",
    "plt.xlim(-1.1,1.1)\n",
    "plt.ylim(-1.1,1.1)\n",
    "ax.xaxis.set_xticklabels([])\n",
    "ax.yaxis.set_yticklabels([])\n",
    "\n",
    "plt.savefig('circle_in_box.png', bbox_inches='tight', dpi=144)\n",
    "plt.show()"
   ]
  },
  {
   "cell_type": "code",
   "execution_count": null,
   "metadata": {
    "collapsed": false
   },
   "outputs": [],
   "source": [
    "# return an array of random numbers\n",
    "# in the range from 0 to 1\n",
    "np.random.uniform(0, 1, size=2)"
   ]
  },
  {
   "cell_type": "code",
   "execution_count": null,
   "metadata": {
    "collapsed": false
   },
   "outputs": [],
   "source": [
    "# we can define the exact value of Pi\n",
    "# using the inverse tangent function\n",
    "Pi = 4*np.arctan(1)\n",
    "\n",
    "# this is equivalent to numpy.pi\n",
    "print(Pi == np.pi)"
   ]
  },
  {
   "cell_type": "code",
   "execution_count": null,
   "metadata": {
    "collapsed": false
   },
   "outputs": [],
   "source": [
    "def approximate_pi(number_of_throws):\n",
    "    hits = 0\n",
    "    for i in range(number_of_throws):\n",
    "        x, y = np.random.uniform(0, 1, size=2)\n",
    "        r = (x**2 + y**2)**0.5\n",
    "        hits = hits + 1*(r < 1)\n",
    "    return hits/number_of_throws*4"
   ]
  },
  {
   "cell_type": "code",
   "execution_count": null,
   "metadata": {
    "collapsed": false
   },
   "outputs": [],
   "source": [
    "a = [10, 100, 1000, 10000, 100000, 300000, 500000, 1000000, 2000000, 5000000, 10000000, 50000000]\n",
    "a = [10, 100, 1000, 10000, 100000, 300000, 500000, 1000000, 2000000]\n",
    "\n",
    "y = [approximate_pi(i) for i in a]"
   ]
  },
  {
   "cell_type": "code",
   "execution_count": null,
   "metadata": {
    "collapsed": false
   },
   "outputs": [],
   "source": [
    "yy = [np.abs((pi_approx-Pi)/Pi) for pi_approx in y]\n",
    "plt.semilogx(a,yy)\n",
    "plt.ylim(0, 0.06)\n",
    "plt.title(\"Approximating Pi with Monte Carlo simulations\", fontsize=20, y=1.03)\n",
    "plt.ylabel(\"Error\", labelpad=20)\n",
    "plt.xlabel(\"Number of sampling points\", labelpad=20)\n",
    "#plt.ylim(3.140, 3.142)\n",
    "print(y)"
   ]
  },
  {
   "cell_type": "code",
   "execution_count": null,
   "metadata": {
    "collapsed": false
   },
   "outputs": [],
   "source": [
    "sample_numbers = np.logspace(1, 6, num=100)\n",
    "pi_approximations = [approximate_pi(int(i)) for i in sample_numbers]"
   ]
  },
  {
   "cell_type": "code",
   "execution_count": null,
   "metadata": {
    "collapsed": false
   },
   "outputs": [],
   "source": [
    "error = [np.abs((i-Pi)/Pi) for i in pi_approximations]\n",
    "plt.semilogx(sample_numbers, error)\n",
    "plt.ylim(0, 0.08)\n",
    "plt.title(\"Approximating Pi with Monte Carlo simulations\", fontsize=20, y=1.03)\n",
    "plt.ylabel(\"Error\", labelpad=20)\n",
    "plt.xlabel(\"Number of sampling points\", labelpad=20)\n",
    "plt.savefig('pi_error.png', bbox_inches='tight', dpi=144)\n",
    "plt.show()"
   ]
  },
  {
   "cell_type": "code",
   "execution_count": null,
   "metadata": {
    "collapsed": true
   },
   "outputs": [],
   "source": [
    "def approximate_pi_tracker(number_of_throws):\n",
    "    hits = 0\n",
    "    xlist = []\n",
    "    ylist = []\n",
    "    for i in range(number_of_throws):\n",
    "        x, y = np.random.uniform(0, 1, size=2)\n",
    "        r = (x**2 + y**2)**0.5\n",
    "        hits = hits + 1*(r < 1)\n",
    "        xlist.append(x)\n",
    "        ylist.append(y)\n",
    "    return hits/number_of_throws*4, xlist, ylist"
   ]
  },
  {
   "cell_type": "code",
   "execution_count": null,
   "metadata": {
    "collapsed": false
   },
   "outputs": [],
   "source": [
    "fig = plt.figure(figsize=(10,10))\n",
    "\n",
    "# plot the box:\n",
    "corners = [(0,0),(0,1),(1,1),(1,0),(0,0)]\n",
    "x = list(zip(*corners))[0]\n",
    "y = list(zip(*corners))[1]\n",
    "plt.plot(x, y, lw=3)\n",
    "# note: the code above is equivalent to\n",
    "# plt.plot([-1,-1,1,1,-1],[-1,1,1,-1,-1], lw=3)\n",
    "\n",
    "# plot the quarter circle:\n",
    "x = np.linspace(0,1,100)\n",
    "plt.plot(x, (1-x**2)**(0.5), lw=3)\n",
    "\n",
    "# plot the sampling points\n",
    "pi_approx, x, y = approximate_pi_tracker(100)\n",
    "plt.scatter(x, y, color='r', s=1)\n",
    "\n",
    "# make a text box with some information\n",
    "box = dict(boxstyle='square', facecolor='white', alpha=0.9)\n",
    "plt.text(0.04, 0.05,\n",
    "         '{0:4.2f}% of samples in circle,\\nPi approximation = {1:5.4f}...'\n",
    "         .format(pi_approx/4*100, pi_approx), bbox=box)\n",
    "\n",
    "plt.xlim(-0.1,1.1)\n",
    "plt.ylim(-0.1,1.1)\n",
    "\n",
    "plt.savefig('pi_approx.png', bbox_inches='tight', dpi=144)"
   ]
  },
  {
   "cell_type": "code",
   "execution_count": null,
   "metadata": {
    "collapsed": true
   },
   "outputs": [],
   "source": []
  }
 ],
 "metadata": {
  "kernelspec": {
   "display_name": "Python 3",
   "language": "python",
   "name": "python3"
  },
  "language_info": {
   "codemirror_mode": {
    "name": "ipython",
    "version": 3
   },
   "file_extension": ".py",
   "mimetype": "text/x-python",
   "name": "python",
   "nbconvert_exporter": "python",
   "pygments_lexer": "ipython3",
   "version": "3.7.3"
  }
 },
 "nbformat": 4,
 "nbformat_minor": 2
}
